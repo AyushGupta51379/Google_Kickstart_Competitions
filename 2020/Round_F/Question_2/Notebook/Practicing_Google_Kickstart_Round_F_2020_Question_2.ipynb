{
  "nbformat": 4,
  "nbformat_minor": 0,
  "metadata": {
    "colab": {
      "name": "Practicing Google Kickstart Round F 2020 Question 2",
      "provenance": [],
      "collapsed_sections": []
    },
    "kernelspec": {
      "name": "python3",
      "display_name": "Python 3"
    }
  },
  "cells": [
    {
      "cell_type": "markdown",
      "metadata": {
        "id": "iOlGpdO0NYn0"
      },
      "source": [
        "**Round F, Google Kickstart 2020**"
      ]
    },
    {
      "cell_type": "markdown",
      "metadata": {
        "id": "7-RTvtKaOFdc"
      },
      "source": [
        "Archive of 2020: https://codingcompetitions.withgoogle.com/kickstart/archive/2020\n",
        "\n",
        "Round F: https://codingcompetitions.withgoogle.com/kickstart/round/000000000019ff48\n",
        "\n",
        "Metal Harvest (6pts, 10pts), 2nd question:\n",
        "https://codingcompetitions.withgoogle.com/kickstart/round/000000000019ff48/00000000003f4b8b\n"
      ]
    },
    {
      "cell_type": "markdown",
      "metadata": {
        "id": "DU3slQ2k7auL"
      },
      "source": [
        "**Metal Harvest, 6+10=16 points**\n",
        "\n",
        "Problem\n",
        "You are in charge of deploying robots to harvest Kickium from a nearby asteroid. Robots are not designed to work as a team, so **only one robot can harvest at any point of time**. A **single robot** can be deployed for **up to K units of time in a row** before it returns for calibration, regardless of how much time it spends on harvesting during that period. **Harvesting** can only be done **during specific time intervals**. These **time intervals do not overlap.**\n",
        "\n",
        "Given **K** and the **time intervals** in which harvesting is allowed, what is the **minimum number of robot deployments required** to **harvest at all possible times?**\n",
        "\n",
        "**Input**\n",
        "\n",
        "The first line of the input gives the number of test cases, **T**. T test cases follow.\n",
        "\n",
        "The **first line of each test case** gives two space separated integers **N** and **K**: **the number of time intervals** in which harvesting is allowed, and the **maximum duration** a robot can be deployed for before returning for calibration.\n",
        "\n",
        "The **next N lines** contain a pair of space separated integers **Si** and **Ei**: the **start time** and the **end time** of the i-th interval respectively. Please note that intervals don't include the time unit starting at the moment Ei, so for example an interval with (Si = 2; Ei = 5) has duration of 3 time units.\n",
        "\n",
        "**Output**\n",
        "\n",
        "For each test case, output one line containing **Case #x: y**, where x is the test case number (starting from 1) and y is the **number of times** robot deployment is needed so that **for each interval there is one robot harvesting at that time.**"
      ]
    },
    {
      "cell_type": "markdown",
      "metadata": {
        "id": "csOGer0ENmH1"
      },
      "source": [
        "**Sample Input and Output**\n",
        "\n",
        "**Sample**\n",
        "\n",
        "**Input**\n",
        " \n",
        "2\n",
        "\n",
        "3 5\n",
        "\n",
        "1 5\n",
        "\n",
        "10 11\n",
        "\n",
        "8 9\n",
        "\n",
        "3 2\n",
        "\n",
        "1 2\n",
        "\n",
        "3 5\n",
        "\n",
        "13 14\n",
        "\n",
        "**Output**\n",
        "  \n",
        "Case #1: 2\n",
        "\n",
        "Case #2: 3\n",
        "  "
      ]
    },
    {
      "cell_type": "markdown",
      "metadata": {
        "id": "RsS46XAS_me_"
      },
      "source": [
        "**Explanation**\n",
        "\n",
        "In Sample Case #1, we deploy the robot at time instant 1 and it becomes available for the interval [1, 6]. \n",
        "- However, it harvests only for the time range [1, 5].\n",
        "- After that we deploy the robot at 6 and it becomes available for the time interval [6, 11]. \n",
        "- This deployment covers both the remaining intervals [8, 9] and [10, 11]. \n",
        "- There are multiple optimal strategies here. \n",
        "- For example, we can deploy the second robot at 7. \n",
        "- It would then cover the range [7, 12], thus harvesting for the intervals [8, 9] and [10, 11].\n",
        "\n",
        "In Sample Case #2, we deploy the robot at time instant 1, and it becomes available for [1, 3], but harvests for [1, 2] as [2, 3] is not part of any interval. \n",
        "- After that we deploy the robot at 3 for the time range [3, 5] in which the robot harvests for the interval [3, 5]. \n",
        "- The third deployment is done at time instant 13 making the robot available for time range [13, 15]. \n",
        "- However, it harvests only for the interval [13, 14]. Thus three deployments are needed to cover all the intervals."
      ]
    },
    {
      "cell_type": "markdown",
      "metadata": {
        "id": "Q47XJ-P17lC0"
      },
      "source": [
        "**Code taking Input and Printing basic Output**"
      ]
    },
    {
      "cell_type": "code",
      "metadata": {
        "id": "LyzTKSw17SLp",
        "outputId": "7cc84eed-39c7-4aaa-8381-1c86e1ca116a",
        "colab": {
          "base_uri": "https://localhost:8080/",
          "height": 326
        }
      },
      "source": [
        "# T value\n",
        "T = int(input())\n",
        "\n",
        "print(T) # Debugging, comment it out later\n",
        "\n",
        "# T test cases\n",
        "for t in range(0, T):\n",
        "  # N and X\n",
        "  N, K = map(int, input().split()) # map(type, data = input().split())\n",
        "  # here the normal split is used, it splits whitespaces\n",
        "\n",
        "  A = [] # Array to store intervals\n",
        "\n",
        "  for n in range(0, N): # Covering N number of intervals\n",
        "    # Array of N integers\n",
        "    a = list(map(int, input().split())) # list converts the map to list, instead of variables\n",
        "    # map(type, data = input().split) # here split splits the whitespaces  \n",
        "    A.append(a)\n",
        "\n",
        "  print(\"Test case: \", t) # Debugging, comment it out later\n",
        "  print(N, \" \", K) # Debugging, comment it out later\n",
        "  print(A) # Debugging, comment it out later\n",
        "\n",
        "  # order of leaving, need to reset it to correct order\n",
        "  num_deployments = len(A) # number of deployments needed, initially answering as the number of intervals\n",
        "  # as the maximum number of deployments needed in any case\n",
        "\n",
        "  # Code for output\n",
        "  print(\"Case #\", end = \"\") # Case #\n",
        "  print(t+1, end = \"\") # test number, starts with 1\n",
        "  print(\": \", end = \"\") # :\n",
        "  print(num_deployments, end = \" \")\n",
        "  print()"
      ],
      "execution_count": 2,
      "outputs": [
        {
          "output_type": "stream",
          "text": [
            "2\n",
            "2\n",
            "3 5\n",
            "1 5\n",
            "10 11\n",
            "8 9\n",
            "Test case:  0\n",
            "3   5\n",
            "[[1, 5], [10, 11], [8, 9]]\n",
            "Case #1: 3 \n",
            "3 2\n",
            "1 2\n",
            "3 5\n",
            "13 14\n",
            "Test case:  1\n",
            "3   2\n",
            "[[1, 2], [3, 5], [13, 14]]\n",
            "Case #2: 3 \n"
          ],
          "name": "stdout"
        }
      ]
    },
    {
      "cell_type": "markdown",
      "metadata": {
        "id": "N3Q5B3w09V7K"
      },
      "source": [
        "**Code for input, without debugging**"
      ]
    },
    {
      "cell_type": "code",
      "metadata": {
        "id": "oFq3OSea89XB",
        "outputId": "b3ef9022-6de9-49db-963c-7269072573d3",
        "colab": {
          "base_uri": "https://localhost:8080/",
          "height": 223
        }
      },
      "source": [
        "# T value\n",
        "T = int(input())\n",
        "\n",
        "print(T) # Debugging, comment it out later\n",
        "\n",
        "# T test cases\n",
        "for t in range(0, T):\n",
        "  # N and X\n",
        "  N, K = map(int, input().split()) # map(type, data = input().split())\n",
        "  # here the normal split is used, it splits whitespaces\n",
        "\n",
        "  A = [] # Array to store intervals\n",
        "\n",
        "  for n in range(0, N): # Covering N number of intervals\n",
        "    # Array of N integers\n",
        "    a = list(map(int, input().split())) # list converts the map to list, instead of variables\n",
        "    # map(type, data = input().split) # here split splits the whitespaces  \n",
        "    A.append(a)\n",
        "\n",
        "  #print(\"Test case: \", t) # Debugging, comment it out later\n",
        "  #print(N, \" \", K) # Debugging, comment it out later\n",
        "  #print(A) # Debugging, comment it out later\n",
        "\n",
        "  # order of leaving, need to reset it to correct order\n",
        "  num_deployments = len(A) # number of deployments needed, initially answering as the number of intervals\n",
        "  # as the maximum number of deployments needed in any case\n",
        "\n",
        "  # Code for output\n",
        "  print(\"Case #\", end = \"\") # Case #\n",
        "  print(t+1, end = \"\") # test number, starts with 1\n",
        "  print(\": \", end = \"\") # :\n",
        "  print(num_deployments, end = \" \")\n",
        "  print()"
      ],
      "execution_count": 3,
      "outputs": [
        {
          "output_type": "stream",
          "text": [
            "2\n",
            "2\n",
            "3 5\n",
            "1 5\n",
            "10 11\n",
            "8 9\n",
            "Case #1: 3 \n",
            "3 2\n",
            "1 2\n",
            "3 5\n",
            "13 14\n",
            "Case #2: 3 \n"
          ],
          "name": "stdout"
        }
      ]
    },
    {
      "cell_type": "markdown",
      "metadata": {
        "id": "UPq6mrgK93ip"
      },
      "source": [
        "**How to solve**\n",
        "\n",
        "- 1st: We know that the intervales given to us do not overlap. An optimal strategy to handle intervals will be to sort them according to their starting time. So, we rearrange elements of A, according to their starting time, in ascending order. Let's call this arranged 2D array as B = sorted(A, key = lambda l:l[0]).\n",
        "\n",
        "- Now, when we deploy a robot for an interval, we deploy it at the starting time, say at si for an interval i. Now, this robot can stay in deployment until si+K. From here 3 cases can arise:\n",
        "\n",
        "- Case 1: Robot satisfies the interval. That is, if ei <= si+K = maximum end time of deployment of this robot = Ej (say), where j is the number of the robot. Or ending time - starting time of this interval, is smaller than the duration that the robot can be deployed. In this case, we have covered this interval. However, note that this robot can stay until the time = si+K = Ej. Subcase 1: It is possible that it does not start covering the next interval, if s(i+1) > si+K = Ej. Subcase 2: It is also possible that it starts covering the next interval, if s(i+1) < si+K = Ej. SubSubCase1: Then this robot might cover the 2nd interval as well, if e(i+1) <= si+K = Ej. SubSubCase2: Or not. This brings us to our Case 2.\n",
        "\n",
        "- Case 2: Robot does not satisfy the interval. That is, if ei > si+K. In this case, we will deploy another robot at time si+K, with the hope that it can cover the interval. Subcase 1: The 2nd robot covers this interval, that is, if ei <= si+K+K = si+2*K. Subcase 2: The 2nd robot doesn't cover this interval, that is, if ei > si+2*K. Then, we deploy another robot at si+2*K, and so on.. Basically, we will keep deploying robots until this interval i is covered, which means we deploy m robots, where m = math.ceil((ei-si)/K).\n"
      ]
    },
    {
      "cell_type": "markdown",
      "metadata": {
        "id": "fKF3_sF2E7JN"
      },
      "source": [
        "\n",
        "**Overall,**\n",
        "\n",
        "- Initially, we deploy the robot j=1 at the s1 of B (si where i=1 of 1st interval). We can denote S1 = s1, where Sj is the starting time of the robot j. Now, we calculate the E1 = max end time of robot 1 = s1+K.\n",
        "- If E1 = s1+K < e1, then we need to deploy another robot (j=2) at s1+K. This will stay deployed until s1+2*K. We repeat this process until, we have deployed m1 robots, where m1 = math.ceil((e1-s1)/K). This, will stay deployed until Em1 = s1+m1*K.\n",
        "\n",
        "- If Em1 >= e1, then we finished this interval. Now, we check if this robot covers the next interval. \n",
        "\n",
        "- Overall, for interval 1, we deploy one robot at s1, and in total we deploy m1 = math.ceil((e1-s1)/K) robots for this interval 1.\n",
        "- Subcase1: Em1 > s2 - meaning this robot can start the next interval. Great. We deploy m2 new robots, where, m2 = math.ceil((e2-Em1)/K). Then, this will stay deployed until E(m1+m2) = Em1+K*m2.\n",
        "- Subcase 2: Em1 < s2 - meaning this robot can't start the next interval. Well, then we deploy another robot (m1+1) at s2. In total, we will deploy m2 = math.ceil((e2-s2)/K) robots for interval 2.\n",
        "- This process will repeat until we are finished with all the intervals, that is i has covered N intervals = len(A)."
      ]
    },
    {
      "cell_type": "markdown",
      "metadata": {
        "id": "Co1To7Nm9nTp"
      },
      "source": [
        "**Solution inside, when N, K, A are known**"
      ]
    },
    {
      "cell_type": "code",
      "metadata": {
        "id": "V2AGBXoi9d5B"
      },
      "source": [
        "import math\n",
        "def Metal_Harvest(N, K, A):\n",
        "  B = [] # 2D array with intervals arranged in ascending order of starting times\n",
        "  B = sorted(A, key = lambda l:l[0])\n",
        "  print(\"Sorted intervals are: \", B)\n",
        "  print()\n",
        "\n",
        "  s1 = B[0][0]\n",
        "  e1 = B[0][1]\n",
        "  print(\"Interval: \", 1, \" , Values: \",B[0]) # debugging\n",
        "  Sj = s1 # starting time of 1st interval\n",
        "  num_robots = 0\n",
        "  m1 = math.ceil((e1-s1)/K) # num robots for 1st interval\n",
        "  print(\"Deploying new robot at: \", Sj)\n",
        "  print(\"Deployed \", m1, \" robots for this interval\")\n",
        "  Ej = Sj+m1*K\n",
        "  print(\"Ending of this robot: \", Ej)\n",
        "  num_robots += m1\n",
        "\n",
        "  for i in range(1, len(B)):\n",
        "    si = B[i][0]\n",
        "    ei = B[i][1]\n",
        "    print()\n",
        "    print(\"Interval: \", i, \" , Values: \",B[i]) # debugging\n",
        "\n",
        "    if (Ej > si): # if ending of j robot is greater than starting of ith interval\n",
        "      print(\"Ending of prev robot: \",Ej)\n",
        "      if (Ej >= ei): # robot can cover this interval too\n",
        "        mi = 0\n",
        "      else:\n",
        "        mi = math.ceil((ei-Ej)/K) # if robot covers this interval, then mi = 0, which is also fine\n",
        "      print(\"Deployed \", mi, \" robots for this interval\")\n",
        "      print(\"Num of robots: \", mi)\n",
        "      Ej = Ej + mi*K\n",
        "      print(\"Ending of this robot: \", Ej)\n",
        "      num_robots += mi\n",
        "    else:\n",
        "      # if ending of j robot is not enough to start ith interval\n",
        "      # deploy new robots\n",
        "      mi = math.ceil((ei-si)/K) # num robots for ith interval\n",
        "      Sj = si # at starting of ith interval\n",
        "      print(\"Deploying new robot at: \", Sj)\n",
        "      print(\"Deployed \", mi, \" robots for this interval\")\n",
        "      Ej = Sj+mi*K\n",
        "      print(\"Ending of this robot: \", Ej)\n",
        "      num_robots += mi\n",
        "\n",
        "  print(\"Number of robots: \", num_robots)\n",
        "  print(\"End of program\", \"\\n\")\n",
        "  return num_robots"
      ],
      "execution_count": 20,
      "outputs": []
    },
    {
      "cell_type": "code",
      "metadata": {
        "id": "NAa008zcBg18",
        "outputId": "196f9254-2c0d-4254-9367-679b58889db6",
        "colab": {
          "base_uri": "https://localhost:8080/",
          "height": 378
        }
      },
      "source": [
        "soln = Metal_Harvest(3, 5, [[1,5], [10,11], [8,9]])\n",
        "\n",
        "print(\"Answer: \", soln)"
      ],
      "execution_count": 21,
      "outputs": [
        {
          "output_type": "stream",
          "text": [
            "Sorted intervals are:  [[1, 5], [8, 9], [10, 11]]\n",
            "\n",
            "Interval:  1  , Values:  [1, 5]\n",
            "Deploying new robot at:  1\n",
            "Deployed  1  robots for this interval\n",
            "Ending of this robot:  6\n",
            "\n",
            "Interval:  1  , Values:  [8, 9]\n",
            "Deploying new robot at:  8\n",
            "Deployed  1  robots for this interval\n",
            "Ending of this robot:  13\n",
            "\n",
            "Interval:  2  , Values:  [10, 11]\n",
            "Ending of prev robot:  13\n",
            "Deployed  0  robots for this interval\n",
            "Num of robots:  0\n",
            "Ending of this robot:  13\n",
            "Number of robots:  2\n",
            "End of program \n",
            "\n",
            "Answer:  2\n"
          ],
          "name": "stdout"
        }
      ]
    },
    {
      "cell_type": "code",
      "metadata": {
        "id": "Y9_DjdzzL7sC",
        "outputId": "636d4b7c-6209-49ee-c473-a2ebc000949b",
        "colab": {
          "base_uri": "https://localhost:8080/",
          "height": 361
        }
      },
      "source": [
        "soln = Metal_Harvest(3, 2, [[1,2], [3,5], [13,14]])\n",
        "\n",
        "print(\"Answer: \", soln)"
      ],
      "execution_count": 22,
      "outputs": [
        {
          "output_type": "stream",
          "text": [
            "Sorted intervals are:  [[1, 2], [3, 5], [13, 14]]\n",
            "\n",
            "Interval:  1  , Values:  [1, 2]\n",
            "Deploying new robot at:  1\n",
            "Deployed  1  robots for this interval\n",
            "Ending of this robot:  3\n",
            "\n",
            "Interval:  1  , Values:  [3, 5]\n",
            "Deploying new robot at:  3\n",
            "Deployed  1  robots for this interval\n",
            "Ending of this robot:  5\n",
            "\n",
            "Interval:  2  , Values:  [13, 14]\n",
            "Deploying new robot at:  13\n",
            "Deployed  1  robots for this interval\n",
            "Ending of this robot:  15\n",
            "Number of robots:  3\n",
            "End of program \n",
            "\n",
            "Answer:  3\n"
          ],
          "name": "stdout"
        }
      ]
    },
    {
      "cell_type": "markdown",
      "metadata": {
        "id": "v7wa1-xWFFo6"
      },
      "source": [
        "**Final Code 1:**"
      ]
    },
    {
      "cell_type": "code",
      "metadata": {
        "id": "6-syqqTBDTqL",
        "outputId": "57ddc492-3f5f-45c0-d788-0f275fdd181c",
        "colab": {
          "base_uri": "https://localhost:8080/",
          "height": 223
        }
      },
      "source": [
        "import math\n",
        "def Metal_Harvest(N, K, A):\n",
        "  B = [] # 2D array with intervals arranged in ascending order of starting times\n",
        "  B = sorted(A, key = lambda l:l[0])\n",
        "  #print(\"Sorted intervals are: \", B)\n",
        "  #print()\n",
        "\n",
        "  s1 = B[0][0]\n",
        "  e1 = B[0][1]\n",
        "  #print(\"Interval: \", 1, \" , Values: \",B[0]) # debugging\n",
        "  Sj = s1 # starting time of 1st interval\n",
        "  num_robots = 0\n",
        "  m1 = math.ceil((e1-s1)/K) # num robots for 1st interval\n",
        "  #print(\"Deploying new robot at: \", Sj)\n",
        "  #print(\"Deployed \", m1, \" robots for this interval\")\n",
        "  Ej = Sj+m1*K\n",
        "  #print(\"Ending of this robot: \", Ej)\n",
        "  num_robots += m1\n",
        "\n",
        "  for i in range(1, len(B)):\n",
        "    si = B[i][0]\n",
        "    ei = B[i][1]\n",
        "    #print()\n",
        "    #print(\"Interval: \", i, \" , Values: \",B[i]) # debugging\n",
        "\n",
        "    if (Ej > si): # if ending of j robot is greater than starting of ith interval\n",
        "      #print(\"Ending of prev robot: \",Ej)\n",
        "      if (Ej >= ei): # robot can cover this interval too\n",
        "        mi = 0\n",
        "      else:\n",
        "        mi = math.ceil((ei-Ej)/K) # if robot covers this interval, then mi = 0, which is also fine\n",
        "      #print(\"Deployed \", mi, \" robots for this interval\")\n",
        "      #print(\"Num of robots: \", mi)\n",
        "      Ej = Ej + mi*K\n",
        "      #print(\"Ending of this robot: \", Ej)\n",
        "      num_robots += mi\n",
        "    else:\n",
        "      # if ending of j robot is not enough to start ith interval\n",
        "      # deploy new robots\n",
        "      mi = math.ceil((ei-si)/K) # num robots for ith interval\n",
        "      Sj = si # at starting of ith interval\n",
        "      #print(\"Deploying new robot at: \", Sj)\n",
        "      #print(\"Deployed \", mi, \" robots for this interval\")\n",
        "      Ej = Sj+mi*K\n",
        "      #print(\"Ending of this robot: \", Ej)\n",
        "      num_robots += mi\n",
        "\n",
        "  #print(\"Number of robots: \", num_robots)\n",
        "  #print(\"End of program\", \"\\n\")\n",
        "  return num_robots\n",
        "\n",
        "# T value\n",
        "T = int(input())\n",
        "\n",
        "#print(T) # Debugging, comment it out later\n",
        "\n",
        "# T test cases\n",
        "for t in range(0, T):\n",
        "  # N and X\n",
        "  N, K = map(int, input().split()) # map(type, data = input().split())\n",
        "  # here the normal split is used, it splits whitespaces\n",
        "\n",
        "  A = [] # Array to store intervals\n",
        "\n",
        "  for n in range(0, N): # Covering N number of intervals\n",
        "    # Array of N integers\n",
        "    a = list(map(int, input().split())) # list converts the map to list, instead of variables\n",
        "    # map(type, data = input().split) # here split splits the whitespaces  \n",
        "    A.append(a)\n",
        "\n",
        "  #print(\"Test case: \", t) # Debugging, comment it out later\n",
        "  #print(N, \" \", K) # Debugging, comment it out later\n",
        "  #print(A) # Debugging, comment it out later\n",
        "\n",
        "  # order of leaving, need to reset it to correct order\n",
        "  num_deployments = Metal_Harvest(N, K, A) # number of deployments needed\n",
        "\n",
        "  # Code for output\n",
        "  print(\"Case #\", end = \"\") # Case #\n",
        "  print(t+1, end = \"\") # test number, starts with 1\n",
        "  print(\": \", end = \"\") # :\n",
        "  print(num_deployments, end = \" \")\n",
        "  print()"
      ],
      "execution_count": 24,
      "outputs": [
        {
          "output_type": "stream",
          "text": [
            "2\n",
            "3 5\n",
            "2\n",
            "1 5\n",
            "10 11\n",
            "8 9\n",
            "Case #1: 2 \n",
            "3 2\n",
            "3 5\n",
            "1 2\n",
            "13 14\n",
            "Case #2: 3 \n"
          ],
          "name": "stdout"
        }
      ]
    },
    {
      "cell_type": "markdown",
      "metadata": {
        "id": "Kzljjt4ZObSY"
      },
      "source": [
        "**My Solution during competition**\n",
        "\n",
        "**Code 0**"
      ]
    },
    {
      "cell_type": "code",
      "metadata": {
        "id": "q_20_GzTNbxo"
      },
      "source": [
        "# original soln my\n",
        "# Online Python compiler (interpreter) to run Python online.\n",
        "# Write Python 3 code in this online editor and run it.\n",
        "import math\n",
        "T = int(input())\n",
        "for p in range(0, T):\n",
        "    N, K = map(int, input().split())\n",
        "    mind = 0\n",
        "    B = []\n",
        "    for q in range(0, N):\n",
        "      B.append(list(map(int, input().split())))\n",
        "    #print(A) # got all the intervals for this guy\n",
        "    # deploy if the current is not enough, always deploy at Si\n",
        "\n",
        "    A = sorted(B, key = lambda l:l[0])\n",
        "    #print(A)\n",
        "    current = 0\n",
        "    prev_end = 0\n",
        "    for i in range(0, N):\n",
        "      si = A[i][0]\n",
        "      ei = A[i][1]\n",
        "      dep_at = si\n",
        "      if(prev_end > si):\n",
        "        # previous has not ended yet\n",
        "        duration = ei-prev_end # since we do not want to reincur\n",
        "        dep_at = prev_end\n",
        "      else:\n",
        "        duration = ei-si # since this is new\n",
        "        dep_at = si\n",
        "      # if duration is more than 1 robot's length, we deploy again\n",
        "      quotient = math.ceil(duration/K) # max length needed now\n",
        "      remainder = duration % K\n",
        "      # if previous deployment is enough?\n",
        "      if(quotient > 0 and duration > 0):\n",
        "        mind += quotient # deployed again for quotient times\n",
        "        #print(prev_end, end=\", \")\n",
        "        prev_end =  dep_at+K*quotient # will be okay till prev_end time\n",
        "        #print(si, \", \", ei, \", \", dep_at)\n",
        "        #print(\"Deployed: \", quotient)\n",
        "\n",
        "        # otherwise, prev end remains same, mind remains same\n",
        "      \n",
        "    print(\"Case #\", end = \"\")\n",
        "    print(p+1, end = \"\")\n",
        "    print(\": \", end = \"\")\n",
        "    print(mind, end = \" \")\n",
        "    print()"
      ],
      "execution_count": null,
      "outputs": []
    },
    {
      "cell_type": "markdown",
      "metadata": {
        "id": "ac9Q_lv8PUpG"
      },
      "source": [
        "**Both of the above codes - Final Code 1 and Code 0 work perfectly well**"
      ]
    },
    {
      "cell_type": "markdown",
      "metadata": {
        "id": "V465TclELm2V"
      },
      "source": [
        "**HURRAY!!**\n",
        "\n",
        "**We Got it Correct**\n",
        "\n",
        "**Time Complexity:**\n",
        "\n",
        "- **O(nlogn) time for each test case**, where **n is the number of intervals**. Reason: Sorting of n intervals, to obtain B from A, takes O(nlogn) time.\n",
        "\n",
        "**Space Complexity:**\n",
        "\n",
        "- **O(n) space for each test case**, where **n is the number of intervals**. Reason: B occupies 2*n space = O(n), A occupes n space = O(n), other variables occupy constant space = O(1) space."
      ]
    }
  ]
}