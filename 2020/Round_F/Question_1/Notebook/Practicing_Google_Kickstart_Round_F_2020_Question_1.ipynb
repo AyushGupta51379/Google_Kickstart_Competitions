{
  "nbformat": 4,
  "nbformat_minor": 0,
  "metadata": {
    "colab": {
      "name": "Practicing Google Kickstart Round F 2020 Question 1",
      "provenance": [],
      "collapsed_sections": []
    },
    "kernelspec": {
      "name": "python3",
      "display_name": "Python 3"
    }
  },
  "cells": [
    {
      "cell_type": "markdown",
      "metadata": {
        "id": "iOlGpdO0NYn0"
      },
      "source": [
        "**Round F, Google Kickstart 2020**"
      ]
    },
    {
      "cell_type": "markdown",
      "metadata": {
        "id": "7-RTvtKaOFdc"
      },
      "source": [
        "Archive of 2020: https://codingcompetitions.withgoogle.com/kickstart/archive/2020\n",
        "\n",
        "Round F: https://codingcompetitions.withgoogle.com/kickstart/round/000000000019ff48\n",
        "\n",
        "ATM Queue, 1st question: https://codingcompetitions.withgoogle.com/kickstart/round/000000000019ff48/00000000003f4ed8\n"
      ]
    },
    {
      "cell_type": "markdown",
      "metadata": {
        "id": "DU3slQ2k7auL"
      },
      "source": [
        "**ATM Queue, 5+8=13 points**\n",
        "\n",
        "Problem\n",
        "There are N people numbered from 1 to N, standing in a queue to withdraw money from an ATM. The queue is formed in ascending order of their number. The person numbered i wants to withdraw amount Ai. The maximum amount a person can withdraw at a time is X. If they need more money than X, they need to go stand at the end of the queue and wait for their turn in line. A person leaves the queue once they have withdrawn the required amount.\n",
        "\n",
        "You need to find the order in which all the people leave the queue.\n",
        "\n",
        "**Input**\n",
        "\n",
        "The first line of the input gives the number of test cases T. T test cases follow.\n",
        "\n",
        "The first line of each test case gives two space separated integers: the number of people standing in the queue, N and the maximum amount X that can be withdrawn in one turn.\n",
        "The next line contains N space separated integers Ai.\n",
        "\n",
        "**Output**\n",
        "\n",
        "For each test case, output one line containing Case #x: y, where x is the test case number (starting from 1) and y is the space separated list of integers that denote the order in which the people leave the queue."
      ]
    },
    {
      "cell_type": "markdown",
      "metadata": {
        "id": "csOGer0ENmH1"
      },
      "source": [
        "**Sample Input and Output**\n",
        "\n",
        "**Sample**\n",
        "\n",
        "**Input**\n",
        " \n",
        "2\n",
        "\n",
        "3 3\n",
        "\n",
        "2 7 4\n",
        "\n",
        "5 6\n",
        "\n",
        "9 10 4 7 2\n",
        "\n",
        "**Output**\n",
        "  \n",
        "Case #1: 1 3 2\n",
        "\n",
        "Case #2: 3 5 1 2 4\n",
        "  "
      ]
    },
    {
      "cell_type": "markdown",
      "metadata": {
        "id": "Q47XJ-P17lC0"
      },
      "source": [
        "**Code taking Input and Printing basic Output**"
      ]
    },
    {
      "cell_type": "code",
      "metadata": {
        "id": "LyzTKSw17SLp",
        "outputId": "e544b23c-1f2b-456b-a47b-cb896efd22b7",
        "colab": {
          "base_uri": "https://localhost:8080/",
          "height": 254
        }
      },
      "source": [
        "# T value\n",
        "T = int(input())\n",
        "\n",
        "print(T) # Debugging, comment it out later\n",
        "\n",
        "# T test cases\n",
        "for t in range(0, T):\n",
        "  # N and X\n",
        "  N, X = map(int, input().split()) # map(type, data = input().split())\n",
        "  # here the normal split is used, it splits whitespaces\n",
        "\n",
        "  # Array of N integers\n",
        "  A = list(map(int, input().split())) # list converts the map to list, instead of variables\n",
        "  # map(type, data = input().split) # here split splits the whitespaces  \n",
        "\n",
        "  print(\"Test case: \", t) # Debugging, comment it out later\n",
        "  print(N, \" \", X) # Debugging, comment it out later\n",
        "  print(A) # Debugging, comment it out later\n",
        "\n",
        "  # order of leaving, need to reset it to correct order\n",
        "  leave = [i for i in range(0, len(A))]\n",
        "\n",
        "  # Code for output\n",
        "  print(\"Case #\", end = \"\") # Case #\n",
        "  print(t+1, end = \"\") # test number, starts with 1\n",
        "  print(\": \", end = \"\") # :\n",
        "  for i in range(0, len(leave)):\n",
        "    print(leave[i], end = \" \")\n",
        "  print()"
      ],
      "execution_count": 6,
      "outputs": [
        {
          "output_type": "stream",
          "text": [
            "2\n",
            "2\n",
            "3 3\n",
            "2 7 4\n",
            "Test case:  0\n",
            "3   3\n",
            "[2, 7, 4]\n",
            "Case #1: 0 1 2 \n",
            "5 6\n",
            "9 10 4 7 2\n",
            "Test case:  1\n",
            "5   6\n",
            "[9, 10, 4, 7, 2]\n",
            "Case #2: 0 1 2 3 4 \n"
          ],
          "name": "stdout"
        }
      ]
    },
    {
      "cell_type": "markdown",
      "metadata": {
        "id": "N3Q5B3w09V7K"
      },
      "source": [
        "**Code for input, without debugging**"
      ]
    },
    {
      "cell_type": "code",
      "metadata": {
        "id": "oFq3OSea89XB",
        "outputId": "7285cfd8-bacf-4724-afea-496c1dea0c1d",
        "colab": {
          "base_uri": "https://localhost:8080/",
          "height": 136
        }
      },
      "source": [
        "# T value\n",
        "T = int(input())\n",
        "# T test cases\n",
        "for t in range(0, T):\n",
        "  # N and X\n",
        "  N, X = map(int, input().split()) # map(type, data = input().split())\n",
        "  # here the normal split is used, it splits whitespaces\n",
        "  # Array of N integers\n",
        "  A = list(map(int, input().split())) # list converts the map to list, instead of variables\n",
        "  # map(type, data = input().split) # here split splits the whitespaces \n",
        "\n",
        "  # order of leaving, need to reset it to correct order\n",
        "  leave = [i for i in range(0, len(A))]\n",
        "\n",
        "  # Code for output\n",
        "  print(\"Case #\", end = \"\") # Case #\n",
        "  print(t+1, end = \"\") # test number, starts with 1\n",
        "  print(\": \", end = \"\") # :\n",
        "  for i in range(0, len(leave)):\n",
        "    print(leave[i], end = \" \")\n",
        "  print() "
      ],
      "execution_count": 7,
      "outputs": [
        {
          "output_type": "stream",
          "text": [
            "2\n",
            "3 3\n",
            "2 7 4\n",
            "Case #1: 0 1 2 \n",
            "5 6\n",
            "9 10 4 7 2\n",
            "Case #2: 0 1 2 3 4 \n"
          ],
          "name": "stdout"
        }
      ]
    },
    {
      "cell_type": "markdown",
      "metadata": {
        "id": "UPq6mrgK93ip"
      },
      "source": [
        "**How to solve**\n",
        "\n",
        "- 1st: we calculate the (remainder)+1, where rem = Ai % X. We can instead use math.ceil(Ai/X) as it can correctly handle the case of integer input as well.\n",
        "\n",
        "- Now, we convert A to A1, where A1 is the array of number of attempts the people of A will take to finish taking out their desired amout of money.\n",
        "\n",
        "- 2nd: While going through each entry in A1, say A1i, we subtract A1i by 1 and check\n",
        "\n",
        "- if A1i - 1 = 0 and A1i is not the end of A1, no further action, just go to next element in A1, which is A1(i+1)\n",
        "\n",
        "- else, append A1i - 1 to the end of A1, for this we need while loop to iterate over A1 since for loop needs predefined end, but since we keep appending thus no predefined end\n",
        "\n",
        "- 3rd: We need another array P = order in which people leave the queue, so when we got A1i-1=0 in 2nd part, we will append this guy's number in P. But, how? Well, we can use a 2D array in A1, which has both number of person and the attempts he needs to make."
      ]
    },
    {
      "cell_type": "markdown",
      "metadata": {
        "id": "Co1To7Nm9nTp"
      },
      "source": [
        "**Solution inside, when N, X, A are known**"
      ]
    },
    {
      "cell_type": "code",
      "metadata": {
        "id": "V2AGBXoi9d5B"
      },
      "source": [
        "import math\n",
        "def ATM_Queue(N, X, A):\n",
        "  B = [] # 2D array with number of person and attempts he needs to get money\n",
        "  total_attempts = 0 # to store the total number of attempts these guys will need\n",
        "\n",
        "  for i in range(0, len(A)):\n",
        "    attempts = math.ceil(float(A[i])/X) # here float is done to ensure that we get correct ratio,\n",
        "    # before converting it to attempts in integer\n",
        "    B.append([i, attempts])\n",
        "    total_attempts += int(attempts)\n",
        "  print(B) # Debugging\n",
        "  print(\"\\n\", \"Starting while loop...\", \"\\n\")\n",
        "\n",
        "  # Now, B is correctly filled with number and attempts\n",
        "  P = [] # 1D array to store number of person as he leaves\n",
        "  # Now, we loop over B, using while loop\n",
        "  i = -1\n",
        "  while (i < total_attempts): # initially this is the only way\n",
        "    i += 1\n",
        "    if (len(P) == N):\n",
        "      print(\"All persons done\", \"\\n\")\n",
        "      break;\n",
        "\n",
        "    if (B[i][1]-1 == 0):\n",
        "      # remove this person, by appending to P\n",
        "      P.append(B[i][0]+1) # we added 1 since answer has person number start with 1\n",
        "      print(P, \"\\n\") # Debugging\n",
        "    else:\n",
        "      # we need to append B[i], with B[i][0], B[i][1]-1 at the end of B\n",
        "      element = [B[i][0], B[i][1]-1]\n",
        "      B.append(element)\n",
        "\n",
        "    # This goes on till we get everyone in the P list\n",
        "  print(\"End of program\", \"\\n\")\n",
        "  return P # returns the array of order in which people leave"
      ],
      "execution_count": 20,
      "outputs": []
    },
    {
      "cell_type": "code",
      "metadata": {
        "id": "NAa008zcBg18",
        "outputId": "5fb5583e-a737-48d9-f388-45ed3a4c39e0",
        "colab": {
          "base_uri": "https://localhost:8080/",
          "height": 271
        }
      },
      "source": [
        "soln = ATM_Queue(3, 3, [2, 7, 4])\n",
        "\n",
        "print(\"Answer: \", soln)"
      ],
      "execution_count": 21,
      "outputs": [
        {
          "output_type": "stream",
          "text": [
            "[[0, 1], [1, 3], [2, 2]]\n",
            "\n",
            " Starting while loop... \n",
            "\n",
            "[1] \n",
            "\n",
            "[1, 3] \n",
            "\n",
            "[1, 3, 2] \n",
            "\n",
            "All persons done \n",
            "\n",
            "End of program \n",
            "\n",
            "Answer:  [1, 3, 2]\n"
          ],
          "name": "stdout"
        }
      ]
    },
    {
      "cell_type": "markdown",
      "metadata": {
        "id": "v7wa1-xWFFo6"
      },
      "source": [
        "**Final Code 1:**"
      ]
    },
    {
      "cell_type": "code",
      "metadata": {
        "id": "6-syqqTBDTqL",
        "outputId": "d896c66a-4a0b-4fb0-f5d7-31bfab7c2a1e",
        "colab": {
          "base_uri": "https://localhost:8080/",
          "height": 136
        }
      },
      "source": [
        "import math\n",
        "def ATM_Queue(N, X, A):\n",
        "  B = [] # 2D array with number of person and attempts he needs to get money\n",
        "  total_attempts = 0 # to store the total number of attempts these guys will need\n",
        "\n",
        "  for i in range(0, len(A)):\n",
        "    attempts = math.ceil(float(A[i])/X) # here float is done to ensure that we get correct ratio,\n",
        "    # before converting it to attempts in integer\n",
        "    B.append([i, attempts])\n",
        "    total_attempts += int(attempts)\n",
        "  #print(B) # Debugging\n",
        "  #print(\"\\n\", \"Starting while loop...\", \"\\n\")\n",
        "\n",
        "  # Now, B is correctly filled with number and attempts\n",
        "  P = [] # 1D array to store number of person as he leaves\n",
        "  # Now, we loop over B, using while loop\n",
        "  i = -1\n",
        "  while (i < total_attempts): # initially this is the only way\n",
        "    i += 1\n",
        "    if (len(P) == N):\n",
        "      #print(\"All persons done\", \"\\n\")\n",
        "      break;\n",
        "\n",
        "    if (B[i][1]-1 == 0):\n",
        "      # remove this person, by appending to P\n",
        "      P.append(B[i][0]+1) # we added 1 since answer has person number start with 1\n",
        "      #print(P, \"\\n\") # Debugging\n",
        "    else:\n",
        "      # we need to append B[i], with B[i][0], B[i][1]-1 at the end of B\n",
        "      element = [B[i][0], B[i][1]-1]\n",
        "      B.append(element)\n",
        "\n",
        "    # This goes on till we get everyone in the P list\n",
        "  #print(\"End of program\", \"\\n\")\n",
        "  return P # returns the array of order in which people leave\n",
        "\n",
        "# T value\n",
        "T = int(input())\n",
        "# T test cases\n",
        "for t in range(0, T):\n",
        "  # N and X\n",
        "  N, X = map(int, input().split()) # map(type, data = input().split())\n",
        "  # here the normal split is used, it splits whitespaces\n",
        "  # Array of N integers\n",
        "  A = list(map(int, input().split())) # list converts the map to list, instead of variables\n",
        "  # map(type, data = input().split) # here split splits the whitespaces \n",
        "\n",
        "  # order of leaving, need to reset it to correct order\n",
        "  leave = ATM_Queue(N, X, A) # [i for i in range(0, len(A))]\n",
        "\n",
        "  # Code for output\n",
        "  print(\"Case #\", end = \"\") # Case #\n",
        "  print(t+1, end = \"\") # test number, starts with 1\n",
        "  print(\": \", end = \"\") # :\n",
        "  for i in range(0, len(leave)):\n",
        "    print(leave[i], end = \" \")\n",
        "  print() "
      ],
      "execution_count": 23,
      "outputs": [
        {
          "output_type": "stream",
          "text": [
            "2\n",
            "3 3\n",
            "2 7 4\n",
            "Case #1: 1 3 2 \n",
            "5 6\n",
            "9 10 4 7 2\n",
            "Case #2: 3 5 1 2 4 \n"
          ],
          "name": "stdout"
        }
      ]
    },
    {
      "cell_type": "markdown",
      "metadata": {
        "id": "aT3uFueMGI-3"
      },
      "source": [
        "**MLE - Memory Limit Error**\n",
        "\n",
        "Need to optimize code to pop the element in B once done."
      ]
    },
    {
      "cell_type": "code",
      "metadata": {
        "id": "haNZbPg4FZ_m"
      },
      "source": [
        "import math\n",
        "def ATM_Queue1(N, X, A):\n",
        "  B = [] # 2D array with number of person and attempts he needs to get money\n",
        "  total_attempts = 0 # to store the total number of attempts these guys will need\n",
        "\n",
        "  for i in range(0, len(A)):\n",
        "    attempts = math.ceil(float(A[i])/X) # here float is done to ensure that we get correct ratio,\n",
        "    # before converting it to attempts in integer\n",
        "    B.append([i, attempts])\n",
        "    total_attempts += int(attempts)\n",
        "  print(B) # Debugging\n",
        "  print(\"\\n\", \"Starting while loop...\", \"\\n\")\n",
        "\n",
        "  # Now, B is correctly filled with number and attempts\n",
        "  P = [] # 1D array to store number of person as he leaves\n",
        "  # Now, we loop over B, using while loop\n",
        "  i = 0\n",
        "  counter = 0\n",
        "  while (counter < total_attempts):     \n",
        "    if (len(P) == N):\n",
        "      print(\"All persons done\", \"\\n\")\n",
        "      break;\n",
        "\n",
        "    if (B[i][1]-1 == 0):\n",
        "      P.append(B[i][0]+1) # we added 1 since answer has person number start with 1\n",
        "      print(P, \"\\n\") # Debugging\n",
        "      \n",
        "      # remove this person, by appending to P\n",
        "      B.pop(i) # no need to change i, since already next element is here\n",
        "      \n",
        "    else:\n",
        "      # we need to append B[i], with B[i][0], B[i][1]-1 at the end of B\n",
        "      element = [B[i][0], B[i][1]-1]\n",
        "      B.append(element)\n",
        "      \n",
        "      # pop ith guy\n",
        "      B.pop(i) # no need to change i, since already next element is here\n",
        "\n",
        "    # This goes on till we get everyone in the P list\n",
        "  print(\"End of program\", \"\\n\")\n",
        "  return P # returns the array of order in which people leave"
      ],
      "execution_count": 26,
      "outputs": []
    },
    {
      "cell_type": "code",
      "metadata": {
        "id": "6z9M8DkcHB_p",
        "outputId": "a77f45ea-b87d-4bd3-d43b-0179c5e842da",
        "colab": {
          "base_uri": "https://localhost:8080/",
          "height": 271
        }
      },
      "source": [
        "soln = ATM_Queue1(3, 3, [2, 7, 4])\n",
        "\n",
        "print(\"Answer: \", soln)"
      ],
      "execution_count": 27,
      "outputs": [
        {
          "output_type": "stream",
          "text": [
            "[[0, 1], [1, 3], [2, 2]]\n",
            "\n",
            " Starting while loop... \n",
            "\n",
            "[1] \n",
            "\n",
            "[1, 3] \n",
            "\n",
            "[1, 3, 2] \n",
            "\n",
            "All persons done \n",
            "\n",
            "End of program \n",
            "\n",
            "Answer:  [1, 3, 2]\n"
          ],
          "name": "stdout"
        }
      ]
    },
    {
      "cell_type": "markdown",
      "metadata": {
        "id": "N_YXFA3XHRiI"
      },
      "source": [
        "**Correct code 2, solving MLE**"
      ]
    },
    {
      "cell_type": "code",
      "metadata": {
        "id": "1d5iz8NZHFaU",
        "outputId": "56f51874-adf3-4a0d-95da-ff17d51c4f8e",
        "colab": {
          "base_uri": "https://localhost:8080/",
          "height": 136
        }
      },
      "source": [
        "import math\n",
        "def ATM_Queue1(N, X, A):\n",
        "  B = [] # 2D array with number of person and attempts he needs to get money\n",
        "  total_attempts = 0 # to store the total number of attempts these guys will need\n",
        "\n",
        "  for i in range(0, len(A)):\n",
        "    attempts = math.ceil(float(A[i])/X) # here float is done to ensure that we get correct ratio,\n",
        "    # before converting it to attempts in integer\n",
        "    B.append([i, attempts])\n",
        "    total_attempts += int(attempts)\n",
        "  #print(B) # Debugging\n",
        "  #print(\"\\n\", \"Starting while loop...\", \"\\n\")\n",
        "\n",
        "  # Now, B is correctly filled with number and attempts\n",
        "  P = [] # 1D array to store number of person as he leaves\n",
        "  # Now, we loop over B, using while loop\n",
        "  i = 0\n",
        "  counter = 0\n",
        "  while (counter < total_attempts):     \n",
        "    if (len(P) == N):\n",
        "      #print(\"All persons done\", \"\\n\")\n",
        "      break;\n",
        "\n",
        "    if (B[i][1]-1 == 0):\n",
        "      P.append(B[i][0]+1) # we added 1 since answer has person number start with 1\n",
        "      #print(P, \"\\n\") # Debugging\n",
        "      \n",
        "      # remove this person\n",
        "      B.pop(i) # no need to change i, since already next element is here\n",
        "      \n",
        "    else:\n",
        "      # we need to append B[i], with B[i][0], B[i][1]-1 at the end of B\n",
        "      element = [B[i][0], B[i][1]-1]\n",
        "      B.append(element)\n",
        "      \n",
        "      # pop ith guy\n",
        "      B.pop(i) # no need to change i, since already next element is here\n",
        "\n",
        "    # This goes on till we get everyone in the P list\n",
        "  #print(\"End of program\", \"\\n\")\n",
        "  return P # returns the array of order in which people leave\n",
        "\n",
        "# T value\n",
        "T = int(input())\n",
        "# T test cases\n",
        "for t in range(0, T):\n",
        "  # N and X\n",
        "  N, X = map(int, input().split()) # map(type, data = input().split())\n",
        "  # here the normal split is used, it splits whitespaces\n",
        "  # Array of N integers\n",
        "  A = list(map(int, input().split())) # list converts the map to list, instead of variables\n",
        "  # map(type, data = input().split) # here split splits the whitespaces \n",
        "\n",
        "  # order of leaving, need to reset it to correct order\n",
        "  leave = ATM_Queue1(N, X, A) # [i for i in range(0, len(A))]\n",
        "\n",
        "  # Code for output\n",
        "  print(\"Case #\", end = \"\") # Case #\n",
        "  print(t+1, end = \"\") # test number, starts with 1\n",
        "  print(\": \", end = \"\") # :\n",
        "  for i in range(0, len(leave)):\n",
        "    print(leave[i], end = \" \")\n",
        "  print() "
      ],
      "execution_count": 29,
      "outputs": [
        {
          "output_type": "stream",
          "text": [
            "2\n",
            "3 3\n",
            "2 7 4\n",
            "Case #1: 1 3 2 \n",
            "5 6\n",
            "9 10 4 7 2\n",
            "Case #2: 3 5 1 2 4 \n"
          ],
          "name": "stdout"
        }
      ]
    },
    {
      "cell_type": "markdown",
      "metadata": {
        "id": "ZZsA1DwkIigA"
      },
      "source": [
        "**TLE - Time Limit Error**\n",
        "\n",
        "**Better use a dictionary? Nope, need to change approach from Brute Force to Optimal one**\n",
        "\n",
        "**Once we know the attempts for each person, how about we sort it?**\n",
        "\n",
        "For persons with same attempts, we give priority to index"
      ]
    },
    {
      "cell_type": "markdown",
      "metadata": {
        "id": "dQu4NnRUJgsD"
      },
      "source": [
        "**Sorting**\n",
        "\n",
        "- 1st get their attempts\n",
        "- Now store in a list with [attempts, index]\n",
        "- 2nd sort this 2D list, 1st sort acc to attempts, then sort acc to index."
      ]
    },
    {
      "cell_type": "code",
      "metadata": {
        "id": "tMH02X-RHfSM"
      },
      "source": [
        "import math\n",
        "def ATM_Queue2(N, X, A):\n",
        "  B = [] # 2D array with number of person and attempts he needs to get money\n",
        "  total_attempts = 0 # to store the total number of attempts these guys will need\n",
        "\n",
        "  for i in range(0, len(A)):\n",
        "    attempts = math.ceil(float(A[i])/X) # here float is done to ensure that we get correct ratio,\n",
        "    # before converting it to attempts in integer\n",
        "    B.append([attempts, i])\n",
        "    total_attempts += int(attempts)\n",
        "  print(B) # Debugging\n",
        "\n",
        "  # Now sort B, 1st ensuring that index is followed, 2nd ensuring that attempts\n",
        "  # that is, Sort((Sort(B, acc to index)), acc to attempts)\n",
        "  sorted_B = sorted(sorted(B, key = lambda l:l[1]), key = lambda l:l[0])\n",
        "\n",
        "  P = [] # 1D array to store number of person as he leaves\n",
        "  for element in sorted_B:\n",
        "    P.append(element[1]+1) # appending index+1 as the number of person\n",
        "\n",
        "  print(\"End of program\", \"\\n\")\n",
        "  return P # returns the array of order in which people leave"
      ],
      "execution_count": 35,
      "outputs": []
    },
    {
      "cell_type": "code",
      "metadata": {
        "id": "qFeQhOlcKxB6",
        "outputId": "79c525ab-d932-4890-fd05-37aabdcb55e8",
        "colab": {
          "base_uri": "https://localhost:8080/",
          "height": 85
        }
      },
      "source": [
        "soln = ATM_Queue2(3, 3, [2, 7, 4])\n",
        "\n",
        "print(\"Answer: \", soln)"
      ],
      "execution_count": 36,
      "outputs": [
        {
          "output_type": "stream",
          "text": [
            "[[1, 0], [3, 1], [2, 2]]\n",
            "End of program \n",
            "\n",
            "Answer:  [1, 3, 2]\n"
          ],
          "name": "stdout"
        }
      ]
    },
    {
      "cell_type": "markdown",
      "metadata": {
        "id": "XBK3fFdULCb2"
      },
      "source": [
        "**Code 3 - solving MLE and TLE**"
      ]
    },
    {
      "cell_type": "code",
      "metadata": {
        "id": "owWBhgUVK6vq",
        "outputId": "23c50c4e-d55f-4726-c497-6522c816fb1f",
        "colab": {
          "base_uri": "https://localhost:8080/",
          "height": 136
        }
      },
      "source": [
        "import math\n",
        "def ATM_Queue2(N, X, A):\n",
        "  B = [] # 2D array with number of person and attempts he needs to get money\n",
        "  total_attempts = 0 # to store the total number of attempts these guys will need\n",
        "\n",
        "  for i in range(0, len(A)):\n",
        "    attempts = math.ceil(float(A[i])/X) # here float is done to ensure that we get correct ratio,\n",
        "    # before converting it to attempts in integer\n",
        "    B.append([attempts, i])\n",
        "    total_attempts += int(attempts)\n",
        "  #print(B) # Debugging\n",
        "\n",
        "  # Now sort B, 1st ensuring that index is followed, 2nd ensuring that attempts\n",
        "  # that is, Sort((Sort(B, acc to index)), acc to attempts)\n",
        "  sorted_B = sorted(sorted(B, key = lambda l:l[1]), key = lambda l:l[0])\n",
        "\n",
        "  P = [] # 1D array to store number of person as he leaves\n",
        "  for element in sorted_B:\n",
        "    P.append(element[1]+1) # appending index+1 as the number of person\n",
        "\n",
        "  #print(\"End of program\", \"\\n\")\n",
        "  return P # returns the array of order in which people leave\n",
        "\n",
        "# T value\n",
        "T = int(input())\n",
        "# T test cases\n",
        "for t in range(0, T):\n",
        "  # N and X\n",
        "  N, X = map(int, input().split()) # map(type, data = input().split())\n",
        "  # here the normal split is used, it splits whitespaces\n",
        "  # Array of N integers\n",
        "  A = list(map(int, input().split())) # list converts the map to list, instead of variables\n",
        "  # map(type, data = input().split) # here split splits the whitespaces \n",
        "\n",
        "  # order of leaving, need to reset it to correct order\n",
        "  leave = ATM_Queue2(N, X, A) # [i for i in range(0, len(A))]\n",
        "\n",
        "  # Code for output\n",
        "  print(\"Case #\", end = \"\") # Case #\n",
        "  print(t+1, end = \"\") # test number, starts with 1\n",
        "  print(\": \", end = \"\") # :\n",
        "  for i in range(0, len(leave)):\n",
        "    print(leave[i], end = \" \")\n",
        "  print() "
      ],
      "execution_count": 38,
      "outputs": [
        {
          "output_type": "stream",
          "text": [
            "2\n",
            "3 3\n",
            "2 7 4\n",
            "Case #1: 1 3 2 \n",
            "5 6\n",
            "9 10 4 7 2\n",
            "Case #2: 3 5 1 2 4 \n"
          ],
          "name": "stdout"
        }
      ]
    },
    {
      "cell_type": "markdown",
      "metadata": {
        "id": "V465TclELm2V"
      },
      "source": [
        "**HURRAY!!**\n",
        "\n",
        "**We Got it Correct**"
      ]
    }
  ]
}
