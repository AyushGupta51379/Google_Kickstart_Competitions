{
  "nbformat": 4,
  "nbformat_minor": 0,
  "metadata": {
    "colab": {
      "name": "Practicing Google Kickstart Round F 2020 Question 3",
      "provenance": [],
      "collapsed_sections": []
    },
    "kernelspec": {
      "name": "python3",
      "display_name": "Python 3"
    }
  },
  "cells": [
    {
      "cell_type": "markdown",
      "metadata": {
        "id": "iOlGpdO0NYn0"
      },
      "source": [
        "**Round F, Google Kickstart 2020**"
      ]
    },
    {
      "cell_type": "markdown",
      "metadata": {
        "id": "7-RTvtKaOFdc"
      },
      "source": [
        "Archive of 2020: https://codingcompetitions.withgoogle.com/kickstart/archive/2020\n",
        "\n",
        "Round F: https://codingcompetitions.withgoogle.com/kickstart/round/000000000019ff48\n",
        "\n",
        "Painters Duel (12pts, 19pts), 3rd question:\n",
        "https: https://codingcompetitions.withgoogle.com/kickstart/round/000000000019ff48/00000000003f47fb\n",
        "\n"
      ]
    },
    {
      "cell_type": "markdown",
      "metadata": {
        "id": "DU3slQ2k7auL"
      },
      "source": [
        "**Painters Duel, 12+19=31 points**\n",
        "\n",
        "**Problem**\n",
        "\n",
        "A new art museum is about to open! It is a single-story building in the shape of a large equilateral triangle. That triangle is made up of many smaller identical equilateral-triangle-shaped rooms, and the side length of the museum is S times the side length of any one of the rooms. Each room has doors connecting it to all other rooms with which it shares a side (not just a vertex).\n",
        "\n",
        "Each room is identified by two numbers: the row of the building it is in (counting from top to bottom, starting from 1), followed by its position within that row (counting from left to right, starting from 1). Here is an example of how the rooms are connected and labeled when S = 3:\n",
        "\n",
        "Alma and Berthe are artists who are painting the rooms of the museum. Alma starts in the room (RA, PA), and Berthe starts in a different room (RB, PB). Each of them has already painted their starting room. C of the other rooms of the museum are under construction, and neither Alma nor Berthe is allowed to enter these rooms or paint them.\n",
        "\n",
        "Alma and Berthe are having a friendly competition and playing a turn-based game, with Alma starting first. On a painter's turn, if their current room is adjacent to at least one unpainted room that is not under construction, the painter must choose one of those rooms, move to it, and paint it. Otherwise, the painter cannot move and does nothing on their turn. Once both painters are unable to move, the game is over. The score of the game is the number of rooms painted by Alma minus the number of rooms painted by Berthe.\n",
        "\n",
        "Both painters make optimal decisions, with Alma trying to maximize the score and Berthe trying to minimize the score. Given this, determine the best score Alma can guarantee for the game, regardless of what Berthe does.\n",
        "\n",
        "**Input**\n",
        "\n",
        "The first line of the input gives the number of test cases, **T**. T test cases follow.\n",
        "\n",
        "The first line of the input gives the number of test cases, T. T test cases follow. Each case begins with one line containing six integers S, RA, PA, RB, PB, and C. Respectively, these are the side length of the museum (as a multiple of the side length of a room), the row and position of Alma's starting room, the row and position of Berthe's starting room, and the number of rooms that are under construction. Then, there are C more lines. The i-th of these lines (counting starting from 1) contains two integers Ri and Pi, representing the row and position of the i-th room that is under construction.\n",
        "\n",
        "**Output**\n",
        "\n",
        "For each test case, output one line containing Case #x: y, where x is the test case number (starting from 1) and y is the best score that Alma can guarantee for the game, as described above."
      ]
    },
    {
      "cell_type": "markdown",
      "metadata": {
        "id": "csOGer0ENmH1"
      },
      "source": [
        "**Sample Input and Output**\n",
        "\n",
        "**Sample**\n",
        "\n",
        "**Input**\n",
        " \n",
        "2\n",
        "\n",
        "2 1 1 2 1 0\n",
        "\n",
        "2 2 2 1 1 2\n",
        "\n",
        "2 1\n",
        "\n",
        "2 3\n",
        "\n",
        "\n",
        "**Output**\n",
        "  \n",
        "Case #1: 2\n",
        "\n",
        "Case #2: 0\n",
        "  "
      ]
    },
    {
      "cell_type": "markdown",
      "metadata": {
        "id": "RsS46XAS_me_"
      },
      "source": [
        "**Explanation**\n",
        "\n",
        "In Sample Case #1, the turns must proceed as follows:\n",
        "\n",
        "Alma moves to room (2, 2).\n",
        "\n",
        "Berthe cannot move.\n",
        "\n",
        "Alma moves to room (2, 3).\n",
        "\n",
        "Berthe still cannot move.\n",
        "\n",
        "Alma cannot move. Since neither painter can move, the game is now over.\n",
        "\n",
        "Alma has painted 3 rooms and Berthe has painted 1 room, so the score is 3 - 1 = 2.\n",
        "\n",
        "In Sample Case #2, neither painter can move. They only paint their starting rooms.\n",
        "\n",
        "The following additional cases could not appear in Test Set 1, but could appear in Test Set 2.\n",
        "\n",
        "2\n",
        "\n",
        "3 3 4 2 1 2\n",
        "\n",
        "2 3\n",
        "\n",
        "3 1\n",
        "\n",
        "3 3 2 2 3 2\n",
        "\n",
        "2 1\n",
        "\n",
        "3 1\n",
        "\n",
        "The correct output for these two cases would be:\n",
        "\n",
        "Case #1: 0\n",
        "\n",
        "Case #2: -1\n",
        "\n",
        "In Case #1, Alma can move to (3, 5) or (3, 3). She cannot move to (2, 3), which is under construction.\n",
        "\n",
        "If she moves to (3, 5), she will have no more moves and Berthe will go on to paint two more rooms. Score: 2 - 3 = -1.\n",
        "\n",
        "If Alma moves to (3, 3), then Berthe can do one of the following:\n",
        "Move to (3, 2), leaving neither painter with any future moves. \n",
        "\n",
        "Score: 2 - 2 = 0.\n",
        "\n",
        "Move to (2, 2). Then the rest of the game must play out as follows: Alma moves to (3, 2), Berthe moves to (1, 1). Score: 3 - 3 = 0.\n",
        "\n",
        "So Alma knows that moving to (3, 3) guarantees a score of 0 no matter what Berthe does, which is better than the score of -1 that she would get by moving to (3, 5). \n",
        "\n",
        "Therefore, Alma moves to (3, 3). \n",
        "\n",
        "Notice that:\n",
        "\n",
        "We do not know exactly how the rest of this game will play out, but we do know the best score that Alma can guarantee.\n",
        "\n",
        "It is possible that one or more rooms that are not under construction do not get painted.\n",
        "\n",
        "In Case #2, Alma must move to (3, 3), and then it is better for Berthe to move to (3, 4) than to (2, 2)."
      ]
    },
    {
      "cell_type": "markdown",
      "metadata": {
        "id": "ZDCOsx8OcBgb"
      },
      "source": [
        "**Limits**\n",
        "\n",
        "Limits\n",
        "\n",
        "Time limit: 40 seconds per test set.\n",
        "\n",
        "Memory limit: 1GB.\n",
        "\n",
        "0 ≤ C ≤ S2 - 2.\n",
        "\n",
        "1 ≤ RA ≤ S.\n",
        "\n",
        "1 ≤ PA ≤ 2 × RA - 1.\n",
        "\n",
        "1 ≤ RB ≤ S.\n",
        "\n",
        "1 ≤ PB ≤ 2 × RB - 1.\n",
        "\n",
        "(RA, PA) ≠ (RB, PB).\n",
        "\n",
        "1 ≤ Ri ≤ S, for all i.\n",
        "\n",
        "1 ≤ Pi ≤ 2 × Ri - 1, for all i.\n",
        "\n",
        "(Ri, Pi) ≠ (RA, PA), for all i.\n",
        "\n",
        "(Ri, Pi) ≠ (RB, PB), for all i.\n",
        "\n",
        "Either Ri < Ri+1, or Ri = Ri+1 and Pi < Pi+1, for all i < C.\n",
        "\n",
        "**Test Set 1**\n",
        "\n",
        "T = 48.\n",
        "\n",
        "S = 2.\n",
        "\n",
        "**Test Set 2**\n",
        "\n",
        "1 ≤ T ≤ 100.\n",
        "\n",
        "2 ≤ S ≤ 6."
      ]
    },
    {
      "cell_type": "markdown",
      "metadata": {
        "id": "Q47XJ-P17lC0"
      },
      "source": [
        "**Code taking Input and Printing basic Output**"
      ]
    },
    {
      "cell_type": "code",
      "metadata": {
        "id": "LyzTKSw17SLp",
        "outputId": "a3fbf116-db65-485b-9c2c-1a5fb602cd86",
        "colab": {
          "base_uri": "https://localhost:8080/",
          "height": 258
        }
      },
      "source": [
        "# T value\n",
        "T = int(input())\n",
        "\n",
        "print(T) # Debugging, comment it out later\n",
        "\n",
        "# T test cases\n",
        "for t in range(0, T):\n",
        "  S, RA, PA, RB, PB, C = map(int, input().split()) # map(type, data = input().split())\n",
        "  # here the normal split is used, it splits whitespaces\n",
        "\n",
        "  A = [] # Array to store under construction\n",
        "\n",
        "  if(C > 0):\n",
        "    for n in range(0, C): # Covering C number of under construction\n",
        "      # Array of a pair of m, n = row and column indices, note that these indices start with 1\n",
        "      a = list(map(int, input().split())) # list converts the map to list, instead of variables\n",
        "      # map(type, data = input().split) # here split splits the whitespaces  \n",
        "      A.append(a)\n",
        "\n",
        "  print(\"Test case: \", t) # Debugging, comment it out later\n",
        "  print(S, \" \", RA, \" \", PA, \" \", RB, \" \", PB, \" \", C) # Debugging, comment it out later\n",
        "  print(A) # Debugging, comment it out later\n",
        "\n",
        "  # order of leaving, need to reset it to correct order\n",
        "  best_score = 0 \n",
        "\n",
        "  # Code for output\n",
        "  print(\"Case #\", end = \"\") # Case #\n",
        "  print(t+1, end = \"\") # test number, starts with 1\n",
        "  print(\": \", end = \"\") # :\n",
        "  print(best_score, end = \" \")\n",
        "  print()"
      ],
      "execution_count": 4,
      "outputs": [
        {
          "output_type": "stream",
          "text": [
            "2\n",
            "2\n",
            "2 1 1 2 1 0\n",
            "Test case:  0\n",
            "2   1   1   2   1   0\n",
            "[]\n",
            "Case #1: 0 \n",
            "2 2 2 1 1 2\n",
            "2 1\n",
            "2 3\n",
            "Test case:  1\n",
            "2   2   2   1   1   2\n",
            "[[2, 1], [2, 3]]\n",
            "Case #2: 0 \n"
          ],
          "name": "stdout"
        }
      ]
    },
    {
      "cell_type": "markdown",
      "metadata": {
        "id": "N3Q5B3w09V7K"
      },
      "source": [
        "**Code for input, without debugging**"
      ]
    },
    {
      "cell_type": "code",
      "metadata": {
        "id": "oFq3OSea89XB",
        "outputId": "11fcca71-8e52-4b81-a343-70d339297e97",
        "colab": {
          "base_uri": "https://localhost:8080/",
          "height": 137
        }
      },
      "source": [
        "# T value\n",
        "T = int(input())\n",
        "\n",
        "#print(T) # Debugging, comment it out later\n",
        "\n",
        "# T test cases\n",
        "for t in range(0, T):\n",
        "  S, RA, PA, RB, PB, C = map(int, input().split()) # map(type, data = input().split())\n",
        "  # here the normal split is used, it splits whitespaces\n",
        "\n",
        "  A = [] # Array to store under construction\n",
        "\n",
        "  if(C > 0):\n",
        "    for n in range(0, C): # Covering C number of under construction\n",
        "      # Array of a pair of m, n = row and column indices, note that these indices start with 1\n",
        "      a = list(map(int, input().split())) # list converts the map to list, instead of variables\n",
        "      # map(type, data = input().split) # here split splits the whitespaces  \n",
        "      A.append(a)\n",
        "\n",
        "  #print(\"Test case: \", t) # Debugging, comment it out later\n",
        "  #print(S, \" \", RA, \" \", PA, \" \", RB, \" \", PB, \" \", C) # Debugging, comment it out later\n",
        " # print(A) # Debugging, comment it out later\n",
        "\n",
        "  # order of leaving, need to reset it to correct order\n",
        "  best_score = 0 \n",
        "\n",
        "  # Code for output\n",
        "  print(\"Case #\", end = \"\") # Case #\n",
        "  print(t+1, end = \"\") # test number, starts with 1\n",
        "  print(\": \", end = \"\") # :\n",
        "  print(best_score, end = \" \")\n",
        "  print()"
      ],
      "execution_count": 7,
      "outputs": [
        {
          "output_type": "stream",
          "text": [
            "2\n",
            "2 1 1 2 1 0\n",
            "Case #1: 0 \n",
            "2 2 2 1 1 2\n",
            "2 1\n",
            "2 3\n",
            "Case #2: 0 \n"
          ],
          "name": "stdout"
        }
      ]
    },
    {
      "cell_type": "markdown",
      "metadata": {
        "id": "UPq6mrgK93ip"
      },
      "source": [
        "**How to solve**\n",
        "\n",
        "**For test set 1**\n",
        "\n",
        "- 1st: We know that it only has S=2, thus the rooms are at: (1,1), (2,1), (2,2), (2,3). Here, (2,2) is the center room. Everyone wants the center room, since one player has it, that player has already won as the access to other rooms has been cut for the other player.\n",
        "\n",
        "- Let's call Alma as PA (Player A) and Berthe as PB (Player B).\n",
        "\n",
        "- Since initially the players have rooms and they have painted their own rooms. We can ignore these rooms in calculation of score. Since, score = Rooms of PA - Rooms of PB, the difference will already cancel their inital rooms.\n",
        "\n",
        "- Scenario 1 - no room under construction: Both players have painted their own rooms. Thus, 2 rooms out of 4 rooms have been painted. \n",
        "\n",
        "- SubScenario 1 - both players have corner rooms initially - Both of these already painted rooms are corner rooms. Since, PA has 1st turn, she will jump to the center room, Rooms of PA += 1. Now, PB has her turn, but she can't move as the center is the access point for any of the other rooms, and center has already been occupied by PA. Then, PA will have her turn and jump to the unpainted corner room. Adding 1 more room to her collection. In the end, Rooms of PA after initial = 1+1 (center+corner) = 2. Rooms of PB after initial = 0. Score = 2-0 = 2.\n",
        "\n",
        "- SubScenario 2 - PA has center room, PB has corner room. PA will paint 1 corner room, whereas PB can't move. Thus, Score = 1-0 = 1.\n",
        "\n",
        "- SubScenario 3 - PB has corner room, PA has center room. PB will paint 1 corner room, whereas PA can't move. Thus, Score = 0-1 = -1.\n",
        "\n",
        "- Scenario 2 - Construction\n",
        "\n",
        "- Subscenario 1 - 2 out of 4 rooms blocked. Score = 0. Since no one can move.\n",
        "- Subscenario 2 - 1 out of 4 rooms blocked. If center room is blocked, Score = 0. If corner room is blocked - If initially PA has center room - Score = 1-0 = 1. If initially PB has center room - Score = 0-1 = -1. If initially PA has center room - Score = 1-0 = 1. If both players have corner rooms and 1 corner is blocked. PA will take the center, Score = 1-0 = 1. \n"
      ]
    },
    {
      "cell_type": "markdown",
      "metadata": {
        "id": "fKF3_sF2E7JN"
      },
      "source": [
        "\n",
        "**Test Set 2 - will solve later**\n"
      ]
    },
    {
      "cell_type": "markdown",
      "metadata": {
        "id": "Co1To7Nm9nTp"
      },
      "source": [
        "**Solution inside, when S, RA, PA, RB, PB, C and A are known, and S = 2**"
      ]
    },
    {
      "cell_type": "code",
      "metadata": {
        "id": "V2AGBXoi9d5B"
      },
      "source": [
        "import math\n",
        "def Painters_Duel_Sis2(S, RA, PA, RB, PB, C, A):\n",
        "  rooms = [[1,1], [2,1], [2,2], [2,3]]\n",
        "  center = [2,2]\n",
        "  corner = [[1,1], [2,1], [2,3]]\n",
        "  score = 0\n",
        "  if (C == 0):\n",
        "    # case 1 no construction\n",
        "    if ([RA, PA] != center and [RB, PB] != center):\n",
        "      # no player has center room\n",
        "      score = 2\n",
        "    elif ([RA, PA] == center):\n",
        "      # player A has center room\n",
        "      score = 1\n",
        "    else:\n",
        "      # player B has center room\n",
        "      score = -1\n",
        "  \n",
        "  elif (C >= 2): # C = 2 means both other rooms are occupied, C>2 means error, return 0\n",
        "    score = 0\n",
        "  else: # C = 1\n",
        "    if (A[0] == center):\n",
        "      # center room blocked\n",
        "      score = 0\n",
        "    else:\n",
        "      # corner room blocked\n",
        "      if ([RA, PA] != center and [RB, PB] != center):\n",
        "        # no player has center room\n",
        "        score = 1 # A takes the center, that's it\n",
        "      elif ([RA, PA] == center):\n",
        "        # player A has center room\n",
        "        score = 1\n",
        "      else:\n",
        "        # player B has center room\n",
        "        score = -1\n",
        "\n",
        "  #print(\"Score: \", score)\n",
        "  #print(\"End of program\", \"\\n\")\n",
        "  return score"
      ],
      "execution_count": 23,
      "outputs": []
    },
    {
      "cell_type": "code",
      "metadata": {
        "id": "NAa008zcBg18",
        "outputId": "e6a7b02d-01e6-4a06-d04a-4c51979dcaa1",
        "colab": {
          "base_uri": "https://localhost:8080/",
          "height": 34
        }
      },
      "source": [
        "soln = Painters_Duel_Sis2(2 , 1, 1, 2, 1, 0, [])\n",
        "# A, B have corners and no construction\n",
        "print(\"Answer: \", soln)"
      ],
      "execution_count": 25,
      "outputs": [
        {
          "output_type": "stream",
          "text": [
            "Answer:  2\n"
          ],
          "name": "stdout"
        }
      ]
    },
    {
      "cell_type": "code",
      "metadata": {
        "id": "Y9_DjdzzL7sC",
        "outputId": "395042cc-d57c-4899-e5b7-696969f42ba4",
        "colab": {
          "base_uri": "https://localhost:8080/",
          "height": 34
        }
      },
      "source": [
        "soln = Painters_Duel_Sis2(2 , 2, 2, 1, 1, 2, [[2,1], [2,3]])\n",
        "# 2 rooms blocked\n",
        "print(\"Answer: \", soln)"
      ],
      "execution_count": 26,
      "outputs": [
        {
          "output_type": "stream",
          "text": [
            "Answer:  0\n"
          ],
          "name": "stdout"
        }
      ]
    },
    {
      "cell_type": "code",
      "metadata": {
        "id": "QhPlKJfLkCkW",
        "outputId": "a76ccebe-63e0-4f0d-b949-0d9894e0bcc1",
        "colab": {
          "base_uri": "https://localhost:8080/",
          "height": 34
        }
      },
      "source": [
        "soln = Painters_Duel_Sis2(2 , 2, 2, 1, 1, 1, [[2,3]])\n",
        "# corner blocked, A has center\n",
        "print(\"Answer: \", soln)"
      ],
      "execution_count": 27,
      "outputs": [
        {
          "output_type": "stream",
          "text": [
            "Answer:  1\n"
          ],
          "name": "stdout"
        }
      ]
    },
    {
      "cell_type": "code",
      "metadata": {
        "id": "D01gBNnlkktW",
        "outputId": "bbd2ed2c-c934-4916-9824-6c9b9960f405",
        "colab": {
          "base_uri": "https://localhost:8080/",
          "height": 34
        }
      },
      "source": [
        "soln = Painters_Duel_Sis2(2 , 2, 1, 2, 2 , 1, [[2,3]])\n",
        "# corner blocked, B has center\n",
        "print(\"Answer: \", soln)"
      ],
      "execution_count": 28,
      "outputs": [
        {
          "output_type": "stream",
          "text": [
            "Answer:  -1\n"
          ],
          "name": "stdout"
        }
      ]
    },
    {
      "cell_type": "code",
      "metadata": {
        "id": "LyNIzllCkZ36",
        "outputId": "6548b62b-f49d-4bd6-f853-f63286f35f87",
        "colab": {
          "base_uri": "https://localhost:8080/",
          "height": 34
        }
      },
      "source": [
        "soln = Painters_Duel_Sis2(2 , 2, 1, 1, 1, 1, [[2,3]])\n",
        "# corner blocked, no one has center\n",
        "print(\"Answer: \", soln)"
      ],
      "execution_count": 29,
      "outputs": [
        {
          "output_type": "stream",
          "text": [
            "Answer:  1\n"
          ],
          "name": "stdout"
        }
      ]
    },
    {
      "cell_type": "markdown",
      "metadata": {
        "id": "v7wa1-xWFFo6"
      },
      "source": [
        "**Final Code 1:**"
      ]
    },
    {
      "cell_type": "code",
      "metadata": {
        "id": "6-syqqTBDTqL",
        "outputId": "e5f0362c-e631-4c66-baa6-82566eec511a",
        "colab": {
          "base_uri": "https://localhost:8080/",
          "height": 137
        }
      },
      "source": [
        "import math\n",
        "def Painters_Duel_Sis2(S, RA, PA, RB, PB, C, A):\n",
        "  rooms = [[1,1], [2,1], [2,2], [2,3]]\n",
        "  center = [2,2]\n",
        "  corner = [[1,1], [2,1], [2,3]]\n",
        "  score = 0\n",
        "  if (C == 0):\n",
        "    # case 1 no construction\n",
        "    if ([RA, PA] != center and [RB, PB] != center):\n",
        "      # no player has center room\n",
        "      score = 2\n",
        "    elif ([RA, PA] == center):\n",
        "      # player A has center room\n",
        "      score = 1\n",
        "    else:\n",
        "      # player B has center room\n",
        "      score = -1\n",
        "  \n",
        "  elif (C >= 2): # C = 2 means both other rooms are occupied, C>2 means error, return 0\n",
        "    score = 0\n",
        "  elif (C == 1):\n",
        "    if (A[0] == center):\n",
        "      # center room blocked\n",
        "      score = 0\n",
        "    else:\n",
        "      # corner room blocked\n",
        "      if ([RA, PA] != center and [RB, PB] != center):\n",
        "        # no player has center room\n",
        "        score = 1 # A takes the center, that's it\n",
        "      elif ([RA, PA] == center):\n",
        "        # player A has center room\n",
        "        score = 1\n",
        "      else:\n",
        "        # player B has center room\n",
        "        score = -1\n",
        "\n",
        "  #print(\"Score: \", score)\n",
        "  #print(\"End of program\", \"\\n\")\n",
        "  return score\n",
        "\n",
        "# T value\n",
        "T = int(input())\n",
        "\n",
        "#print(T) # Debugging, comment it out later\n",
        "\n",
        "# T test cases\n",
        "for t in range(0, T):\n",
        "  S, RA, PA, RB, PB, C = map(int, input().split()) # map(type, data = input().split())\n",
        "  # here the normal split is used, it splits whitespaces\n",
        "\n",
        "  A = [] # Array to store under construction\n",
        "\n",
        "  if(C > 0):\n",
        "    for n in range(0, C): # Covering C number of under construction\n",
        "      # Array of a pair of m, n = row and column indices, note that these indices start with 1\n",
        "      a = list(map(int, input().split())) # list converts the map to list, instead of variables\n",
        "      # map(type, data = input().split) # here split splits the whitespaces  \n",
        "      A.append(a)\n",
        "\n",
        "  #print(\"Test case: \", t) # Debugging, comment it out later\n",
        "  #print(S, \" \", RA, \" \", PA, \" \", RB, \" \", PB, \" \", C) # Debugging, comment it out later\n",
        " # print(A) # Debugging, comment it out later\n",
        "  if (S == 2):\n",
        "    best_score = Painters_Duel_Sis2(S, RA, PA, RB, PB, C, A) \n",
        "  else:\n",
        "    best_score = 0\n",
        "\n",
        "  # Code for output\n",
        "  print(\"Case #\", end = \"\") # Case #\n",
        "  print(t+1, end = \"\") # test number, starts with 1\n",
        "  print(\": \", end = \"\") # :\n",
        "  print(best_score, end = \" \")\n",
        "  print()"
      ],
      "execution_count": 24,
      "outputs": [
        {
          "output_type": "stream",
          "text": [
            "2\n",
            "2 1 1 2 1 0\n",
            "Case #1: 2 \n",
            "2 2 2 1 1 2\n",
            "2 1\n",
            "2 3\n",
            "Case #2: 0 \n"
          ],
          "name": "stdout"
        }
      ]
    },
    {
      "cell_type": "markdown",
      "metadata": {
        "id": "V465TclELm2V"
      },
      "source": [
        "**HURRAY!!**\n",
        "\n",
        "**We Got it Correct**\n",
        "\n",
        "**Now, we can think on how to solve Test Case 2.**"
      ]
    }
  ]
}